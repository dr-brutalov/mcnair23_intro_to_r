{
 "cells": [
  {
   "cell_type": "code",
   "execution_count": null,
   "metadata": {},
   "outputs": [],
   "source": [
    "import pandas as pd\n",
    "\n",
    "diabetes_data = pd.read_csv(\n",
    "    \"../data/complete_diabetes_dataset.csv\", sep=\",\"\n",
    ")  # Examining the raw `.txt` file, separate on the ';' char\n",
    "diabetes_data.head()  # View the first five elements to ensure the data was loaded correctly"
   ]
  },
  {
   "cell_type": "code",
   "execution_count": null,
   "metadata": {},
   "outputs": [],
   "source": [
    "diabetes_data.describe()"
   ]
  },
  {
   "cell_type": "code",
   "execution_count": null,
   "metadata": {},
   "outputs": [],
   "source": [
    "col_labels = [\n",
    "    \"Pregnancies\",\n",
    "    \"Glucose\",\n",
    "    \"BloodPressure\",\n",
    "    \"SkinThickness\",\n",
    "    \"Insulin\",\n",
    "    \"BMI\",\n",
    "    \"DiabetesPedigreeFunction\",\n",
    "    \"Age\",\n",
    "]\n",
    "is_null = []\n",
    "for col in col_labels:\n",
    "    is_null.append(diabetes_data[col].isnull().values.any())\n",
    "print(is_null)\n"
   ]
  },
  {
   "cell_type": "code",
   "execution_count": null,
   "metadata": {},
   "outputs": [],
   "source": [
    "import pandas as pd\n",
    "import numpy as np\n",
    "\n",
    "\n",
    "def replace_with_nan(dataframe, column_name):\n",
    "    # Copy the column to avoid modifying the original DataFrame\n",
    "    column_copy = dataframe[column_name].copy()\n",
    "\n",
    "    # Calculate the number of values to replace\n",
    "    num_values = int(len(column_copy) * 0.01)\n",
    "\n",
    "    # Generate random indices to replace\n",
    "    indices = np.random.choice(len(column_copy), num_values, replace=False)\n",
    "\n",
    "    # Replace values at the selected indices with NaN\n",
    "    column_copy.iloc[indices] = np.nan\n",
    "\n",
    "    # Update the original DataFrame with the modified column\n",
    "    dataframe[column_name] = column_copy\n",
    "\n",
    "    return dataframe\n"
   ]
  },
  {
   "cell_type": "code",
   "execution_count": null,
   "metadata": {},
   "outputs": [],
   "source": [
    "for col in col_labels:\n",
    "    replace_with_nan(diabetes_data, col)\n",
    "diabetes_data.describe()"
   ]
  },
  {
   "cell_type": "code",
   "execution_count": null,
   "metadata": {},
   "outputs": [],
   "source": [
    "is_null = []\n",
    "for col in col_labels:\n",
    "    is_null.append(diabetes_data[col].isnull().values.any())\n",
    "print(is_null)"
   ]
  },
  {
   "cell_type": "code",
   "execution_count": null,
   "metadata": {},
   "outputs": [],
   "source": [
    "import pandas as pd\n",
    "\n",
    "\n",
    "def find_nan_rows(dataframe):\n",
    "    nan_rows = dataframe[dataframe.isnull().any(axis=1)]\n",
    "    return nan_rows\n"
   ]
  },
  {
   "cell_type": "code",
   "execution_count": null,
   "metadata": {},
   "outputs": [],
   "source": [
    "diabetes_data.head()"
   ]
  },
  {
   "cell_type": "code",
   "execution_count": null,
   "metadata": {},
   "outputs": [],
   "source": [
    "nan_rows = find_nan_rows(diabetes_data)\n",
    "print(nan_rows)"
   ]
  },
  {
   "cell_type": "code",
   "execution_count": null,
   "metadata": {},
   "outputs": [],
   "source": [
    "def dataframe_to_csv(dataframe, file_path):\n",
    "    dataframe.to_csv(file_path, index=False, sep=\",\", na_rep=\"NaN\")\n",
    "\n",
    "\n",
    "dataframe_to_csv(diabetes_data, \"../data/incomplete_diabetes_data.csv\")\n"
   ]
  },
  {
   "cell_type": "code",
   "execution_count": null,
   "metadata": {},
   "outputs": [],
   "source": [
    "import pandas as pd\n",
    "\n",
    "\n",
    "def split_dataframe(dataframe):\n",
    "    # Create empty DataFrames for each split\n",
    "    df1 = pd.DataFrame(columns=dataframe.columns)\n",
    "    df2 = pd.DataFrame(columns=dataframe.columns)\n",
    "    df3 = pd.DataFrame(columns=dataframe.columns)\n",
    "\n",
    "    # Iterate over the DataFrame and split based on index modulus 2\n",
    "    for idx, row in dataframe.iterrows():\n",
    "        if idx % 3 == 0:\n",
    "            df1 = df1.append(row)\n",
    "        elif idx % 3 == 1:\n",
    "            df2 = df2.append(row)\n",
    "        else:\n",
    "            df3 = df3.append(row)\n",
    "\n",
    "    dataframe_to_csv(df1, \"../data/first_third_diabetes_data.csv\")\n",
    "    dataframe_to_csv(df2, \"../data/second_third_diabetes_data.csv\")\n",
    "    dataframe_to_csv(df3, \"../data/third_third_diabetes_data.csv\")\n",
    "\n",
    "\n",
    "split_dataframe(diabetes_data)"
   ]
  },
  {
   "cell_type": "code",
   "execution_count": null,
   "metadata": {},
   "outputs": [],
   "source": []
  }
 ],
 "metadata": {
  "kernelspec": {
   "display_name": "Python 3",
   "language": "python",
   "name": "python3"
  },
  "language_info": {
   "codemirror_mode": {
    "name": "ipython",
    "version": 3
   },
   "file_extension": ".py",
   "mimetype": "text/x-python",
   "name": "python",
   "nbconvert_exporter": "python",
   "pygments_lexer": "ipython3",
   "version": "3.10.6"
  },
  "orig_nbformat": 4
 },
 "nbformat": 4,
 "nbformat_minor": 2
}
